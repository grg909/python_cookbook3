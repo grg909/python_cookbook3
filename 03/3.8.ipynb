{
 "cells": [
  {
   "cell_type": "code",
<<<<<<< HEAD
   "execution_count": 2,
=======
   "execution_count": 1,
>>>>>>> 533d657d9ef131332b1866d0a7efdce43af1fc5a
   "metadata": {},
   "outputs": [],
   "source": [
    "from fractions import Fraction\n",
<<<<<<< HEAD
    "\n",
    "a = Fraction(5, 4)\n",
    "b = Fraction(7, 16)"
   ]
  },
  {
   "cell_type": "code",
   "execution_count": 3,
   "metadata": {},
   "outputs": [
    {
     "data": {
      "text/plain": [
       "Fraction(5, 4)"
      ]
     },
     "execution_count": 3,
     "metadata": {},
     "output_type": "execute_result"
    }
   ],
   "source": [
    "a"
=======
    "a = Fraction(5, 4)"
>>>>>>> 533d657d9ef131332b1866d0a7efdce43af1fc5a
   ]
  },
  {
   "cell_type": "code",
<<<<<<< HEAD
   "execution_count": 4,
=======
   "execution_count": 2,
>>>>>>> 533d657d9ef131332b1866d0a7efdce43af1fc5a
   "metadata": {},
   "outputs": [
    {
     "name": "stdout",
     "output_type": "stream",
     "text": [
      "27/16\n"
     ]
    }
   ],
   "source": [
<<<<<<< HEAD
=======
    "b = Fraction(7, 16)\n",
>>>>>>> 533d657d9ef131332b1866d0a7efdce43af1fc5a
    "print(a + b)"
   ]
  },
  {
   "cell_type": "code",
<<<<<<< HEAD
   "execution_count": 5,
   "metadata": {},
   "outputs": [
    {
     "name": "stdout",
     "output_type": "stream",
     "text": [
      "35/64\n"
     ]
    }
   ],
   "source": [
    "print(a * b)"
=======
   "execution_count": 3,
   "metadata": {},
   "outputs": [
    {
     "data": {
      "text/plain": [
       "35"
      ]
     },
     "execution_count": 3,
     "metadata": {},
     "output_type": "execute_result"
    }
   ],
   "source": [
    "c = a * b\n",
    "c.numerator"
>>>>>>> 533d657d9ef131332b1866d0a7efdce43af1fc5a
   ]
  },
  {
   "cell_type": "code",
<<<<<<< HEAD
   "execution_count": 6,
=======
   "execution_count": 4,
>>>>>>> 533d657d9ef131332b1866d0a7efdce43af1fc5a
   "metadata": {},
   "outputs": [
    {
     "data": {
      "text/plain": [
<<<<<<< HEAD
       "35"
      ]
     },
     "execution_count": 6,
=======
       "64"
      ]
     },
     "execution_count": 4,
>>>>>>> 533d657d9ef131332b1866d0a7efdce43af1fc5a
     "metadata": {},
     "output_type": "execute_result"
    }
   ],
   "source": [
<<<<<<< HEAD
    "c = a*b\n",
    "c.numerator"
=======
    "c.denominator"
>>>>>>> 533d657d9ef131332b1866d0a7efdce43af1fc5a
   ]
  },
  {
   "cell_type": "code",
<<<<<<< HEAD
   "execution_count": 7,
=======
   "execution_count": 5,
>>>>>>> 533d657d9ef131332b1866d0a7efdce43af1fc5a
   "metadata": {},
   "outputs": [
    {
     "data": {
      "text/plain": [
<<<<<<< HEAD
       "64"
      ]
     },
     "execution_count": 7,
=======
       "0.546875"
      ]
     },
     "execution_count": 5,
>>>>>>> 533d657d9ef131332b1866d0a7efdce43af1fc5a
     "metadata": {},
     "output_type": "execute_result"
    }
   ],
   "source": [
<<<<<<< HEAD
    "c.denominator"
=======
    "float(c)"
   ]
  },
  {
   "cell_type": "code",
   "execution_count": 6,
   "metadata": {},
   "outputs": [
    {
     "name": "stdout",
     "output_type": "stream",
     "text": [
      "4/7\n"
     ]
    }
   ],
   "source": [
    "print(c.limit_denominator(8))"
   ]
  },
  {
   "cell_type": "code",
   "execution_count": 7,
   "metadata": {},
   "outputs": [],
   "source": [
    "x = 3.75\n",
    "y = Fraction(*x.as_integer_ratio())"
>>>>>>> 533d657d9ef131332b1866d0a7efdce43af1fc5a
   ]
  },
  {
   "cell_type": "code",
   "execution_count": 8,
   "metadata": {},
   "outputs": [
    {
     "data": {
      "text/plain": [
<<<<<<< HEAD
       "0.546875"
=======
       "Fraction(15, 4)"
>>>>>>> 533d657d9ef131332b1866d0a7efdce43af1fc5a
      ]
     },
     "execution_count": 8,
     "metadata": {},
     "output_type": "execute_result"
    }
   ],
   "source": [
<<<<<<< HEAD
    "float(c)"
   ]
=======
    "y"
   ]
  },
  {
   "cell_type": "code",
   "execution_count": null,
   "metadata": {},
   "outputs": [],
   "source": []
>>>>>>> 533d657d9ef131332b1866d0a7efdce43af1fc5a
  }
 ],
 "metadata": {
  "kernelspec": {
   "display_name": "Python 3",
   "language": "python",
   "name": "python3"
  },
  "language_info": {
   "codemirror_mode": {
    "name": "ipython",
    "version": 3
   },
   "file_extension": ".py",
   "mimetype": "text/x-python",
   "name": "python",
   "nbconvert_exporter": "python",
   "pygments_lexer": "ipython3",
   "version": "3.7.3"
  }
 },
 "nbformat": 4,
 "nbformat_minor": 2
}
