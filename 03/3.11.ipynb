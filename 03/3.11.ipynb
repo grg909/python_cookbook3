{
 "cells": [
  {
   "cell_type": "code",
   "execution_count": 21,
   "metadata": {},
   "outputs": [],
   "source": [
    "import random"
   ]
  },
  {
   "cell_type": "code",
   "execution_count": 19,
   "metadata": {},
   "outputs": [],
   "source": [
    "values = [1, 2, 3, 4, 5, 6]"
   ]
  },
  {
   "cell_type": "code",
   "execution_count": 22,
   "metadata": {},
   "outputs": [
    {
     "data": {
      "text/plain": [
       "1"
      ]
     },
     "execution_count": 22,
     "metadata": {},
     "output_type": "execute_result"
    }
   ],
   "source": [
    "random.choice(values)"
   ]
  },
  {
   "cell_type": "code",
   "execution_count": 23,
   "metadata": {},
   "outputs": [
    {
     "data": {
      "text/plain": [
       "[5, 3]"
      ]
     },
     "execution_count": 23,
     "metadata": {},
     "output_type": "execute_result"
    }
   ],
   "source": [
    "random.sample(values, 2)"
   ]
  },
  {
   "cell_type": "code",
   "execution_count": 25,
   "metadata": {},
   "outputs": [
    {
     "data": {
      "text/plain": [
       "[3, 6, 2, 4, 1, 5]"
      ]
     },
     "execution_count": 25,
     "metadata": {},
     "output_type": "execute_result"
    }
   ],
   "source": [
    "random.shuffle(values)\n",
    "values"
   ]
  },
  {
   "cell_type": "code",
   "execution_count": 26,
   "metadata": {},
   "outputs": [
    {
     "data": {
      "text/plain": [
       "3035"
      ]
     },
     "execution_count": 26,
     "metadata": {},
     "output_type": "execute_result"
    }
   ],
   "source": [
    "random.randint(0,10000)"
   ]
  },
  {
   "cell_type": "code",
   "execution_count": 27,
   "metadata": {},
   "outputs": [
    {
     "data": {
      "text/plain": [
       "0.304481503398383"
      ]
     },
     "execution_count": 27,
     "metadata": {},
     "output_type": "execute_result"
    }
   ],
   "source": [
    "# 生成 0 到 1 范围内均匀分布的浮点数\n",
    "random.random()"
   ]
  },
  {
   "cell_type": "code",
   "execution_count": 29,
   "metadata": {},
   "outputs": [
    {
     "data": {
      "text/plain": [
       "3485722404867991939534768516825434358213257435523771766635297429225269302791072773798390270293723176809763966384965000329532399616412314251932808839580746768564563707579360997705974403776039606160030951118104745094406948405175944090053035787081470378517071142524063618023837897673983410597330297663060562715516902914962669567585575451004348720479995738999677493185300502387118121383509155045475462991476062863537980296829187773627782277736799983340821483195431542433759986468095261103151510059371405267381931999874014613720127504174214402425683148129754784634534634917963729628164290731406726922108336"
      ]
     },
     "execution_count": 29,
     "metadata": {},
     "output_type": "execute_result"
    }
   ],
   "source": [
    "random.getrandbits(2000)"
   ]
  },
  {
   "cell_type": "markdown",
   "metadata": {},
   "source": [
    "- random 模块使用 Mersenne Twister 算法来计算生成随机数。这是一个确定性算法，但是你可以通过 random.seed() 函数修改初始化种子（对于设定的seed，随机数都是根据种子计算出来的，是确定性的。）"
   ]
  },
  {
   "cell_type": "markdown",
   "metadata": {},
   "source": [
    "## 在 random 模块中的函数不应该用在和密码学相关的程序中。如果你确实需要类似的功能，可以使用 ssl 模块中相应的函数。比如，ssl.RAND_bytes() 可以用来生成一个安全的随机字节序列。"
   ]
  },
  {
   "cell_type": "code",
   "execution_count": 30,
   "metadata": {},
   "outputs": [],
   "source": [
    "import ssl"
   ]
  },
  {
   "cell_type": "code",
   "execution_count": 31,
   "metadata": {},
   "outputs": [
    {
     "data": {
      "text/plain": [
       "b'\\x10\\x9f\\xe8\\x06\\xeb\\xe5\\x12\\xb6Q\\x80\\x86@\\x08`\\xb9\\n\\x90\\xf0\\xe3\\xeb O\\xbe/nn\\x91\\xfe\\x16\\xa6T\\x04+\\xbd\\xb12\\xc7\\xf2\\xb5\\xb6\\t\\xc6\\xab\\xac\\x88\\x94\\xa3\\xb0\\xdf\\'L\\x7f\\xce\\xa2\\n93\\x00\\x9c`^\\xab\\x017\\xb4\\xd7V\\xb6{\\xfc\\x16\\xb6\\xd4\\xc5\\x7f\\xae\\xf9<\\xe2\\xb1\\xed\\x81\\xee\\xbbO\\'N!\\xf6\\xc2\\x0e(-\\x08\\x8f\\xe47\\x89\\xbf \\xe1\\xb9$^\\x7fW+\\xe4\\x89!\\xe8q)\\xe2Q\\xa0\\xc3\\xad8%&\\xea\\xde\\x0b\\x81\\xf7|@\"\\xa6\\xb8\\xf8\\x0c{AZ\\xbf\\xc3\\xd8\\n\\x10\\x10\\xa3tg\\x94\\xa8\\x1e\\xfdU4\\xf9R,\\xd9\\xa7D\\x1e\\x82\\xb7\\xbb`W\\xdb\\xaf%\\x9cp\\xeb\\xed@%\\xed\\xcf\\x0c\\xf9\\x8c\\xb6\\x99\\x8d\\x99\\xc5\\x88c\\xd7\\xacu\\x10\\xfd\\x13\\xbb0\\x96\\x8c\\xfc@\\xdeO\\xdf\\xed\\xec\\x8f\\xbb\\xea\\xbe~\\x05\\xf1Z)\\xecuS\\xa2K\\'\\x18\\x8d\\x1b\\x02lR\\x05@\\xdb\\xf2\\x1bm\\xa8\\xc8\\xbfT\\xd2\\xc6\\xca3\\x05\\x99<\\x0e\\x9aM\\xdc}\\xb2;\\xf4M\\xe2MI\\x820\\x89\\xffw\\x10t\\xa1\\x96[\\xc5h\\x81\\x06\\\\b\\'ySl\\xde\\r\\xd6\\x13\\x08C\\xbb\\xe8\\xfa\\xe8\\xee\\xac.\\x8dG\\x02\\x93?\\x1e\\xfb^\\xfco{t\\xbb\\xd1\\xf1:\\xc3o\\xc2\\x83\\xd8\\xaf\\xe8\\x0eK\\x9c\\xc1[\\x10IX\\xe8e\\xed\\xe3\\x05\\xeb\\xe6\\x83\\xb1\\xacc\\x8f\\xfd&I\\xce\\xc7\\xe5*\\x89\\xfa\\x15\\xab4<\\x87dW-v\\xb1\\xd3\\xc1\\xde5\\x96\\x127\\xd9Q\\xc2o\\x9e\\x81\\xe9\\xc8\\x8c\\xe8\\x80\\xb9(=,H8\\xb8<\\x08\\x82E\\xd2\\x11\\xf8=v6hU\\xa8q\\x9b6[\\x9e\\xf1Z\\xa8\\xb6\\x0bLT0\\xa3\\xb4M\\xb1\\xcc\\xb5]\\x8b\\xb4\\xb2_\\xe9<\\xc1c\\xb5\\x9d\\xb0P\\xa4s\\xb0}\\xf5\\xfa\\x0fz\\x05\\x1fQ\\xdd\\xb0\\'\\x97\\xaa9\\rc\\x1fi\\x8f\\x9c\\xf3(\\xfb\\xed\\x8f\\xb4J|\\x94\\x0c\\x14\\x9a\\x95y\\x17\\x1d\\xb2\\xb3C\\x1d#c\\xf2\\xbf=%o\\x88\\x05w-\\x83\\xb2\\x01j\\xce\"\\xcb\\x0c\\xab\\xfc\\xebJR\\xd4\\x1fx!MnT\\xad\\xea\\x0c\\xde\\x14\\xcb\\x95\\\\\\x19\\xdc\\x16\\xaa\\xe7\\xb4\\xc9\\x81\\x8aG\\x1bf\\xb9O\\xee\\xa4\\xb6e\\xf2\\xfcJ\\xf6;\\xb5\\xaft\\xcb\\x90\\x8bLh\\xa4\\x12\\x81b^\\x1e<\\x8ad9t*\\xb5\\xa4\\x0c\\xe3'"
      ]
     },
     "execution_count": 31,
     "metadata": {},
     "output_type": "execute_result"
    }
   ],
   "source": [
    "ssl.RAND_bytes(545)"
   ]
  },
  {
   "cell_type": "code",
   "execution_count": 32,
   "metadata": {},
   "outputs": [
    {
     "data": {
      "text/plain": [
       "b'u\\x1b'"
      ]
     },
     "execution_count": 32,
     "metadata": {},
     "output_type": "execute_result"
    }
   ],
   "source": [
    "ssl.RAND_bytes(2)"
   ]
  },
  {
   "cell_type": "code",
   "execution_count": null,
   "metadata": {},
   "outputs": [],
   "source": []
  }
 ],
 "metadata": {
  "kernelspec": {
   "display_name": "Python 3",
   "language": "python",
   "name": "python3"
  },
  "language_info": {
   "codemirror_mode": {
    "name": "ipython",
    "version": 3
   },
   "file_extension": ".py",
   "mimetype": "text/x-python",
   "name": "python",
   "nbconvert_exporter": "python",
   "pygments_lexer": "ipython3",
   "version": "3.7.3"
  }
 },
 "nbformat": 4,
 "nbformat_minor": 2
}
